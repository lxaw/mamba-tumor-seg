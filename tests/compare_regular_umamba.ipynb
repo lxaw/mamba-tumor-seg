{
 "cells": [
  {
   "cell_type": "code",
   "execution_count": 1,
   "metadata": {},
   "outputs": [],
   "source": [
    "## Regular UMamba"
   ]
  },
  {
   "cell_type": "code",
   "execution_count": 2,
   "metadata": {},
   "outputs": [
    {
     "name": "stderr",
     "output_type": "stream",
     "text": [
      "/share/jccrews/miniconda3/envs/umamba/lib/python3.10/site-packages/tqdm/auto.py:21: TqdmWarning: IProgress not found. Please update jupyter and ipywidgets. See https://ipywidgets.readthedocs.io/en/stable/user_install.html\n",
      "  from .autonotebook import tqdm as notebook_tqdm\n"
     ]
    }
   ],
   "source": [
    "import torch\n",
    "import torch.nn as nn\n",
    "from torch.utils.data import Dataset, DataLoader\n",
    "\n",
    "\n",
    "from mamba_model import UMambaBot\n",
    "import os\n",
    "\n",
    "from dice_loss import DiceLoss\n",
    "import torch.optim as optim\n",
    "from brain_mri_dataset import BrainMRIDatasetBuilder,BrainMRIDataset\n",
    "\n",
    "from transforms import BrainMRITransforms\n",
    "\n",
    "from calculate_iou import calculate_iou\n"
   ]
  },
  {
   "cell_type": "code",
   "execution_count": 3,
   "metadata": {},
   "outputs": [],
   "source": [
    "device = torch.device(\"cuda\" if torch.cuda.is_available() else \"cpu\")"
   ]
  },
  {
   "cell_type": "code",
   "execution_count": 4,
   "metadata": {},
   "outputs": [],
   "source": [
    "# batch\n",
    "batch_size = 32\n",
    "\n",
    "learning_rate = 0.0003"
   ]
  },
  {
   "cell_type": "code",
   "execution_count": 5,
   "metadata": {},
   "outputs": [],
   "source": [
    "data_dir = \"../datasets/lgg-mri-segmentation/kaggle_3m\"\n",
    "\n",
    "builder = BrainMRIDatasetBuilder(data_dir)\n",
    "df = builder.create_df()\n",
    "train_df, val_df, test_df = builder.split_df(df)\n",
    "\n",
    "transform_ = BrainMRITransforms()\n",
    "\n",
    "train_data = BrainMRIDataset(train_df, transform = transform_ ,  mask_transform= transform_)\n",
    "val_data = BrainMRIDataset(val_df, transform = transform_ ,  mask_transform= transform_)\n",
    "test_data = BrainMRIDataset(test_df, transform = transform_ ,  mask_transform= transform_)\n",
    "\n",
    "train_dataloader = DataLoader(train_data, batch_size = batch_size , shuffle = True)\n",
    "val_dataloader = DataLoader(val_data, batch_size = batch_size , shuffle = True)\n",
    "test_dataloader = DataLoader(test_data, batch_size = batch_size , shuffle = True)\n"
   ]
  },
  {
   "cell_type": "code",
   "execution_count": 6,
   "metadata": {},
   "outputs": [],
   "source": [
    "model = nn.DataParallel(UMambaBot(\n",
    "    input_channels=3,  # Assuming RGB images with 3 channels\n",
    "    n_stages=5,\n",
    "    features_per_stage=(32, 64, 128, 256,512),\n",
    "    conv_op=nn.Conv2d,  # Assuming 2D convolution\n",
    "    kernel_sizes=(3, 3, 3, 3, 3),  # Adjusted kernel sizes for 2D convolution\n",
    "    strides=(1, 2, 2, 2, 2),\n",
    "    num_classes=1,\n",
    "    n_conv_per_stage=(1, 1, 1, 1, 1),\n",
    "    n_conv_per_stage_decoder=(1, 1, 1, 1),\n",
    "    conv_bias=True,\n",
    "    norm_op=nn.InstanceNorm2d,  # Assuming 2D instance normalization\n",
    "    norm_op_kwargs={},\n",
    "    dropout_op=None,\n",
    "    nonlin=nn.LeakyReLU,\n",
    "    nonlin_kwargs={'inplace': True}\n",
    ")).to(device)"
   ]
  },
  {
   "cell_type": "code",
   "execution_count": 7,
   "metadata": {},
   "outputs": [
    {
     "name": "stdout",
     "output_type": "stream",
     "text": [
      "torch.Size([1, 1, 256, 256])\n"
     ]
    }
   ],
   "source": [
    "input_tensor = torch.randn(1, 3, 256, 256).to(device)  # Example input tensor with size 256x256\n",
    "output = model(input_tensor)\n",
    "print(output.shape)  # Check the shape of the output"
   ]
  },
  {
   "cell_type": "code",
   "execution_count": 8,
   "metadata": {},
   "outputs": [],
   "source": [
    "criterion = DiceLoss()\n",
    "optimizer = optim.Adam(\n",
    "    model.parameters(),\n",
    "    lr=learning_rate)"
   ]
  },
  {
   "cell_type": "code",
   "execution_count": 9,
   "metadata": {},
   "outputs": [],
   "source": [
    "checkpoint_dir = \"../checkpoints/regular_umamba_checkpoints/\""
   ]
  },
  {
   "cell_type": "code",
   "execution_count": 10,
   "metadata": {},
   "outputs": [
    {
     "name": "stdout",
     "output_type": "stream",
     "text": [
      "Epoch: 1/100, Train Loss: 0.9420, Val Loss: 0.9264\n",
      "Epoch: 2/100, Train Loss: 0.9116, Val Loss: 0.8949\n",
      "Epoch: 3/100, Train Loss: 0.8691, Val Loss: 0.8402\n",
      "Epoch: 4/100, Train Loss: 0.7956, Val Loss: 0.7534\n",
      "Epoch: 5/100, Train Loss: 0.6725, Val Loss: 0.5904\n",
      "Epoch: 6/100, Train Loss: 0.4940, Val Loss: 0.3837\n",
      "Epoch: 7/100, Train Loss: 0.3097, Val Loss: 0.2928\n",
      "Epoch: 8/100, Train Loss: 0.2418, Val Loss: 0.2022\n",
      "Epoch: 9/100, Train Loss: 0.1867, Val Loss: 0.1829\n",
      "Epoch: 10/100, Train Loss: 0.1590, Val Loss: 0.1569\n",
      "Epoch: 11/100, Train Loss: 0.1467, Val Loss: 0.1764\n",
      "Epoch: 12/100, Train Loss: 0.1377, Val Loss: 0.1654\n",
      "Epoch: 13/100, Train Loss: 0.1308, Val Loss: 0.1398\n",
      "Epoch: 14/100, Train Loss: 0.1197, Val Loss: 0.1239\n",
      "Epoch: 15/100, Train Loss: 0.1168, Val Loss: 0.1220\n",
      "Epoch: 16/100, Train Loss: 0.1127, Val Loss: 0.1240\n",
      "Epoch: 17/100, Train Loss: 0.1028, Val Loss: 0.1195\n",
      "Epoch: 18/100, Train Loss: 0.0973, Val Loss: 0.1065\n",
      "Epoch: 19/100, Train Loss: 0.0954, Val Loss: 0.1136\n",
      "Epoch: 20/100, Train Loss: 0.0916, Val Loss: 0.1199\n",
      "Epoch: 21/100, Train Loss: 0.0915, Val Loss: 0.1129\n",
      "Epoch: 22/100, Train Loss: 0.0854, Val Loss: 0.1088\n",
      "Epoch: 23/100, Train Loss: 0.0848, Val Loss: 0.0974\n",
      "Epoch: 24/100, Train Loss: 0.0828, Val Loss: 0.1110\n",
      "Epoch: 25/100, Train Loss: 0.0943, Val Loss: 0.1022\n",
      "Epoch: 26/100, Train Loss: 0.0837, Val Loss: 0.1227\n",
      "Epoch: 27/100, Train Loss: 0.0778, Val Loss: 0.0997\n",
      "Epoch: 28/100, Train Loss: 0.0772, Val Loss: 0.0962\n",
      "Epoch: 29/100, Train Loss: 0.0737, Val Loss: 0.1049\n",
      "Epoch: 30/100, Train Loss: 0.0753, Val Loss: 0.1005\n",
      "Epoch: 31/100, Train Loss: 0.0714, Val Loss: 0.0987\n",
      "Epoch: 32/100, Train Loss: 0.0700, Val Loss: 0.1125\n",
      "Epoch: 33/100, Train Loss: 0.0678, Val Loss: 0.1075\n",
      "Epoch: 34/100, Train Loss: 0.0653, Val Loss: 0.1068\n",
      "Epoch: 35/100, Train Loss: 0.0641, Val Loss: 0.0879\n",
      "Epoch: 36/100, Train Loss: 0.0602, Val Loss: 0.0912\n",
      "Epoch: 37/100, Train Loss: 0.0592, Val Loss: 0.0993\n",
      "Epoch: 38/100, Train Loss: 0.0590, Val Loss: 0.1638\n",
      "Epoch: 39/100, Train Loss: 0.0602, Val Loss: 0.1133\n",
      "Epoch: 40/100, Train Loss: 0.0767, Val Loss: 0.1346\n",
      "Epoch: 41/100, Train Loss: 0.0714, Val Loss: 0.0932\n",
      "Epoch: 42/100, Train Loss: 0.0755, Val Loss: 0.1069\n",
      "Epoch: 43/100, Train Loss: 0.0668, Val Loss: 0.1040\n",
      "Epoch: 44/100, Train Loss: 0.0606, Val Loss: 0.0976\n",
      "Epoch: 45/100, Train Loss: 0.0548, Val Loss: 0.0896\n",
      "Epoch: 46/100, Train Loss: 0.0578, Val Loss: 0.0992\n",
      "Epoch: 47/100, Train Loss: 0.0555, Val Loss: 0.0943\n",
      "Epoch: 48/100, Train Loss: 0.0507, Val Loss: 0.1073\n",
      "Epoch: 49/100, Train Loss: 0.0520, Val Loss: 0.1111\n",
      "Epoch: 50/100, Train Loss: 0.1481, Val Loss: 0.1151\n",
      "Epoch: 51/100, Train Loss: 0.0873, Val Loss: 0.1124\n",
      "Epoch: 52/100, Train Loss: 0.0934, Val Loss: 0.1025\n",
      "Epoch: 53/100, Train Loss: 0.0710, Val Loss: 0.1102\n",
      "Epoch: 54/100, Train Loss: 0.0615, Val Loss: 0.0926\n",
      "Epoch: 55/100, Train Loss: 0.0552, Val Loss: 0.0947\n",
      "Epoch: 56/100, Train Loss: 0.0534, Val Loss: 0.1182\n",
      "Epoch: 57/100, Train Loss: 0.0507, Val Loss: 0.1029\n",
      "Epoch: 58/100, Train Loss: 0.0494, Val Loss: 0.0928\n",
      "Epoch: 59/100, Train Loss: 0.0492, Val Loss: 0.0900\n",
      "Epoch: 60/100, Train Loss: 0.0465, Val Loss: 0.0938\n",
      "Epoch: 61/100, Train Loss: 0.0461, Val Loss: 0.0893\n",
      "Epoch: 62/100, Train Loss: 0.0460, Val Loss: 0.1011\n",
      "Epoch: 63/100, Train Loss: 0.0465, Val Loss: 0.0931\n",
      "Epoch: 64/100, Train Loss: 0.0453, Val Loss: 0.0944\n",
      "Epoch: 65/100, Train Loss: 0.0480, Val Loss: 0.0892\n",
      "Epoch: 66/100, Train Loss: 0.0433, Val Loss: 0.0927\n",
      "Epoch: 67/100, Train Loss: 0.0424, Val Loss: 0.0953\n",
      "Epoch: 68/100, Train Loss: 0.0413, Val Loss: 0.1059\n",
      "Epoch: 69/100, Train Loss: 0.0414, Val Loss: 0.0936\n",
      "Epoch: 70/100, Train Loss: 0.0406, Val Loss: 0.0898\n",
      "Epoch: 71/100, Train Loss: 0.0398, Val Loss: 0.0984\n",
      "Epoch: 72/100, Train Loss: 0.0420, Val Loss: 0.0937\n",
      "Epoch: 73/100, Train Loss: 0.0412, Val Loss: 0.1153\n",
      "Epoch: 74/100, Train Loss: 0.0390, Val Loss: 0.0902\n",
      "Epoch: 75/100, Train Loss: 0.0458, Val Loss: 0.1004\n",
      "Epoch: 76/100, Train Loss: 0.0416, Val Loss: 0.0978\n",
      "Epoch: 77/100, Train Loss: 0.0399, Val Loss: 0.0961\n",
      "Epoch: 78/100, Train Loss: 0.0381, Val Loss: 0.1237\n",
      "Epoch: 79/100, Train Loss: 0.0365, Val Loss: 0.0922\n",
      "Epoch: 80/100, Train Loss: 0.0367, Val Loss: 0.0972\n",
      "Epoch: 81/100, Train Loss: 0.0358, Val Loss: 0.0930\n",
      "Epoch: 82/100, Train Loss: 0.0356, Val Loss: 0.1000\n",
      "Epoch: 83/100, Train Loss: 0.0352, Val Loss: 0.0928\n",
      "Epoch: 84/100, Train Loss: 0.0349, Val Loss: 0.0946\n",
      "Epoch: 85/100, Train Loss: 0.0356, Val Loss: 0.0925\n",
      "Epoch: 86/100, Train Loss: 0.0350, Val Loss: 0.0966\n",
      "Epoch: 87/100, Train Loss: 0.0345, Val Loss: 0.0953\n",
      "Epoch: 88/100, Train Loss: 0.0337, Val Loss: 0.0926\n",
      "Epoch: 89/100, Train Loss: 0.0343, Val Loss: 0.0984\n",
      "Epoch: 90/100, Train Loss: 0.0337, Val Loss: 0.1013\n",
      "Epoch: 91/100, Train Loss: 0.0325, Val Loss: 0.1145\n",
      "Epoch: 92/100, Train Loss: 0.0325, Val Loss: 0.0974\n",
      "Epoch: 93/100, Train Loss: 0.0331, Val Loss: 0.1052\n",
      "Epoch: 94/100, Train Loss: 0.0331, Val Loss: 0.0966\n",
      "Epoch: 95/100, Train Loss: 0.0431, Val Loss: 0.1029\n",
      "Epoch: 96/100, Train Loss: 0.0371, Val Loss: 0.0983\n",
      "Epoch: 97/100, Train Loss: 0.0345, Val Loss: 0.0929\n",
      "Epoch: 98/100, Train Loss: 0.0352, Val Loss: 0.0938\n",
      "Epoch: 99/100, Train Loss: 0.0324, Val Loss: 0.0935\n",
      "Epoch: 100/100, Train Loss: 0.0305, Val Loss: 0.0920\n"
     ]
    }
   ],
   "source": [
    "epochs = 100\n",
    "\n",
    "train_loss = []\n",
    "val_loss = []\n",
    "trainIOU = []\n",
    "valIOU = []\n",
    "\n",
    "for epoch in range(epochs):\n",
    "    total_train_loss = 0\n",
    "    total_val_loss = 0\n",
    "\n",
    "    # Training mode\n",
    "    model.train()\n",
    "    total_train_iou = 0\n",
    "\n",
    "    for imgs, labels in train_dataloader:\n",
    "        imgs, labels = imgs.to(device).float(), labels.to(device).float()\n",
    "        optimizer.zero_grad()\n",
    "\n",
    "        pred = model(imgs)\n",
    "\n",
    "        loss = criterion(pred, labels)\n",
    "        total_train_loss += loss.item()\n",
    "\n",
    "        loss.backward()\n",
    "        optimizer.step()\n",
    "\n",
    "    train_loss.append(total_train_loss / len(train_dataloader))\n",
    "\n",
    "    # Validation mode \n",
    "    model.eval()\n",
    "    total_val_iou = 0\n",
    "    with torch.no_grad():\n",
    "        for imgs, labels in val_dataloader:\n",
    "            imgs, labels = imgs.to(device).float(), labels.to(device).float()\n",
    "            \n",
    "            pred = model(imgs)\n",
    "\n",
    "            loss = criterion(pred, labels)\n",
    "            total_val_loss += loss.item()\n",
    "\n",
    "    total_val_loss = total_val_loss / len(val_dataloader)\n",
    "    val_loss.append(total_val_loss)\n",
    "        \n",
    "    # Print\n",
    "    print('Epoch: {}/{}, Train Loss: {:.4f}, Val Loss: {:.4f}'.format(epoch + 1, epochs, train_loss[-1], total_val_loss))\n",
    "\n",
    "    # Save checkpoint\n",
    "    checkpoint_path = os.path.join(checkpoint_dir, f'regular_umamba_checkpoint_epoch_{epoch+1}.pt')\n",
    "    torch.save(model.state_dict(), checkpoint_path)\n",
    "\n",
    "# Assuming your model is named 'model' and you want to save its state_dict\n",
    "model_state_dict = model.state_dict()\n",
    "\n",
    "# Specify the file path where you want to save the weights\n",
    "file_path = 'regular_umamba_weights.pth'\n",
    "\n",
    "# Save the model state_dict to the specified file\n",
    "torch.save(model_state_dict, file_path)\n",
    "\n"
   ]
  }
 ],
 "metadata": {
  "kernelspec": {
   "display_name": "umamba",
   "language": "python",
   "name": "python3"
  },
  "language_info": {
   "codemirror_mode": {
    "name": "ipython",
    "version": 3
   },
   "file_extension": ".py",
   "mimetype": "text/x-python",
   "name": "python",
   "nbconvert_exporter": "python",
   "pygments_lexer": "ipython3",
   "version": "3.10.13"
  }
 },
 "nbformat": 4,
 "nbformat_minor": 2
}
